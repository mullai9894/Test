{
 "cells": [
  {
   "cell_type": "code",
   "execution_count": 4,
   "id": "ae42b941",
   "metadata": {},
   "outputs": [
    {
     "name": "stdout",
     "output_type": "stream",
     "text": [
      "2 is even number\n"
     ]
    }
   ],
   "source": [
    "x = 2\n",
    "\n",
    "if x % 2 == 0:\n",
    "    print(f\"{x} is even number\")\n",
    "else:\n",
    "    print(f\"{x} is odd number\")\n",
    "    "
   ]
  },
  {
   "cell_type": "code",
   "execution_count": 5,
   "id": "60bd5af4",
   "metadata": {},
   "outputs": [],
   "source": [
    "def odd_or_even(x):\n",
    "    if x % 2 == 0:\n",
    "        print(f\"{x} is even number\")\n",
    "    else:\n",
    "        print(f\"{x} is odd number\")\n",
    "    "
   ]
  },
  {
   "cell_type": "code",
   "execution_count": 6,
   "id": "07078237",
   "metadata": {},
   "outputs": [
    {
     "name": "stdout",
     "output_type": "stream",
     "text": [
      "2 is even number\n"
     ]
    }
   ],
   "source": [
    "odd_or_even(2)"
   ]
  },
  {
   "cell_type": "code",
   "execution_count": 7,
   "id": "09e9110f",
   "metadata": {},
   "outputs": [
    {
     "name": "stdout",
     "output_type": "stream",
     "text": [
      "1 is odd number\n"
     ]
    }
   ],
   "source": [
    "odd_or_even(1)"
   ]
  },
  {
   "cell_type": "code",
   "execution_count": null,
   "id": "7c45c698",
   "metadata": {},
   "outputs": [],
   "source": []
  }
 ],
 "metadata": {
  "kernelspec": {
   "display_name": "Python 3 (ipykernel)",
   "language": "python",
   "name": "python3"
  },
  "language_info": {
   "codemirror_mode": {
    "name": "ipython",
    "version": 3
   },
   "file_extension": ".py",
   "mimetype": "text/x-python",
   "name": "python",
   "nbconvert_exporter": "python",
   "pygments_lexer": "ipython3",
   "version": "3.10.9"
  }
 },
 "nbformat": 4,
 "nbformat_minor": 5
}
